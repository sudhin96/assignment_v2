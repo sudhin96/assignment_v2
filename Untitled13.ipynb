{
 "cells": [
  {
   "cell_type": "code",
   "execution_count": 1,
   "metadata": {},
   "outputs": [],
   "source": [
    "import pandas as pd\n",
    "import numpy as np"
   ]
  },
  {
   "cell_type": "code",
   "execution_count": 136,
   "metadata": {},
   "outputs": [],
   "source": [
    "data=pd.read_excel(r\"C:\\Users\\sudhin\\Desktop\\Data_Science_2020_v2.xlsx\",index_col=0)"
   ]
  },
  {
   "cell_type": "code",
   "execution_count": 137,
   "metadata": {},
   "outputs": [
    {
     "data": {
      "text/html": [
       "<div>\n",
       "<style scoped>\n",
       "    .dataframe tbody tr th:only-of-type {\n",
       "        vertical-align: middle;\n",
       "    }\n",
       "\n",
       "    .dataframe tbody tr th {\n",
       "        vertical-align: top;\n",
       "    }\n",
       "\n",
       "    .dataframe thead th {\n",
       "        text-align: right;\n",
       "    }\n",
       "</style>\n",
       "<table border=\"1\" class=\"dataframe\">\n",
       "  <thead>\n",
       "    <tr style=\"text-align: right;\">\n",
       "      <th></th>\n",
       "      <th>Current City</th>\n",
       "      <th>Python (out of 3)</th>\n",
       "      <th>R Programming (out of 3)</th>\n",
       "      <th>Data Science (out of 3)</th>\n",
       "      <th>Other skills</th>\n",
       "      <th>Institute</th>\n",
       "      <th>Degree</th>\n",
       "      <th>Stream</th>\n",
       "      <th>Current Year Of Graduation</th>\n",
       "      <th>Performance_PG</th>\n",
       "      <th>Performance_UG</th>\n",
       "      <th>Performance_12</th>\n",
       "      <th>Performance_10</th>\n",
       "    </tr>\n",
       "    <tr>\n",
       "      <th>Application_ID</th>\n",
       "      <th></th>\n",
       "      <th></th>\n",
       "      <th></th>\n",
       "      <th></th>\n",
       "      <th></th>\n",
       "      <th></th>\n",
       "      <th></th>\n",
       "      <th></th>\n",
       "      <th></th>\n",
       "      <th></th>\n",
       "      <th></th>\n",
       "      <th></th>\n",
       "      <th></th>\n",
       "    </tr>\n",
       "  </thead>\n",
       "  <tbody>\n",
       "    <tr>\n",
       "      <th>DS0001</th>\n",
       "      <td>Bangalore</td>\n",
       "      <td>1</td>\n",
       "      <td>0</td>\n",
       "      <td>3</td>\n",
       "      <td>Machine Learning, Arduino, C Programming, CSS,...</td>\n",
       "      <td>Global Academy of Technology</td>\n",
       "      <td>Bachelor of Engineering (B.E)</td>\n",
       "      <td>Electrical and Electronics Engineering</td>\n",
       "      <td>2019</td>\n",
       "      <td>NaN</td>\n",
       "      <td>7.73/10</td>\n",
       "      <td>NaN</td>\n",
       "      <td>NaN</td>\n",
       "    </tr>\n",
       "    <tr>\n",
       "      <th>DS0002</th>\n",
       "      <td>Mumbai</td>\n",
       "      <td>2</td>\n",
       "      <td>1</td>\n",
       "      <td>2</td>\n",
       "      <td>AutoCAD, MS-Office, Machine Learning, Microsof...</td>\n",
       "      <td>Aegis School Of Business, Data Science, Cyber ...</td>\n",
       "      <td>NaN</td>\n",
       "      <td>PGP</td>\n",
       "      <td>2020</td>\n",
       "      <td>NaN</td>\n",
       "      <td>68.00/100</td>\n",
       "      <td>NaN</td>\n",
       "      <td>NaN</td>\n",
       "    </tr>\n",
       "    <tr>\n",
       "      <th>DS0003</th>\n",
       "      <td>Mumbai</td>\n",
       "      <td>2</td>\n",
       "      <td>0</td>\n",
       "      <td>0</td>\n",
       "      <td>C++ Programming, Data Structures, Image Proces...</td>\n",
       "      <td>VJTI, Mumbai</td>\n",
       "      <td>Bachelor of Technology (B.Tech)</td>\n",
       "      <td>Information Systems</td>\n",
       "      <td>2018</td>\n",
       "      <td>NaN</td>\n",
       "      <td>8.85/10</td>\n",
       "      <td>91.40/91.40</td>\n",
       "      <td>9.40/9.40</td>\n",
       "    </tr>\n",
       "    <tr>\n",
       "      <th>DS0004</th>\n",
       "      <td>Dhanbad</td>\n",
       "      <td>2</td>\n",
       "      <td>0</td>\n",
       "      <td>2</td>\n",
       "      <td>Algorithms, C++ Programming, Data Structures, ...</td>\n",
       "      <td>IIT (ISM) Dhanbad</td>\n",
       "      <td>Integrated M.Tech</td>\n",
       "      <td>Mathematics and Computing</td>\n",
       "      <td>2021</td>\n",
       "      <td>NaN</td>\n",
       "      <td>8.40/10</td>\n",
       "      <td>91.80/91.80</td>\n",
       "      <td>10.00/10.00</td>\n",
       "    </tr>\n",
       "    <tr>\n",
       "      <th>DS0005</th>\n",
       "      <td>Bangalore</td>\n",
       "      <td>2</td>\n",
       "      <td>0</td>\n",
       "      <td>0</td>\n",
       "      <td>MS-Word, Python, SQL, MS-Excel</td>\n",
       "      <td>Vvce</td>\n",
       "      <td>Bachelor of Engineering (B.E)</td>\n",
       "      <td>Electronics and Communication</td>\n",
       "      <td>2018</td>\n",
       "      <td>NaN</td>\n",
       "      <td>NaN</td>\n",
       "      <td>NaN</td>\n",
       "      <td>NaN</td>\n",
       "    </tr>\n",
       "  </tbody>\n",
       "</table>\n",
       "</div>"
      ],
      "text/plain": [
       "               Current City  Python (out of 3)  R Programming (out of 3)  \\\n",
       "Application_ID                                                             \n",
       "DS0001            Bangalore                  1                         0   \n",
       "DS0002               Mumbai                  2                         1   \n",
       "DS0003               Mumbai                  2                         0   \n",
       "DS0004              Dhanbad                  2                         0   \n",
       "DS0005            Bangalore                  2                         0   \n",
       "\n",
       "                Data Science (out of 3)  \\\n",
       "Application_ID                            \n",
       "DS0001                                3   \n",
       "DS0002                                2   \n",
       "DS0003                                0   \n",
       "DS0004                                2   \n",
       "DS0005                                0   \n",
       "\n",
       "                                                     Other skills  \\\n",
       "Application_ID                                                      \n",
       "DS0001          Machine Learning, Arduino, C Programming, CSS,...   \n",
       "DS0002          AutoCAD, MS-Office, Machine Learning, Microsof...   \n",
       "DS0003          C++ Programming, Data Structures, Image Proces...   \n",
       "DS0004          Algorithms, C++ Programming, Data Structures, ...   \n",
       "DS0005                             MS-Word, Python, SQL, MS-Excel   \n",
       "\n",
       "                                                        Institute  \\\n",
       "Application_ID                                                      \n",
       "DS0001                               Global Academy of Technology   \n",
       "DS0002          Aegis School Of Business, Data Science, Cyber ...   \n",
       "DS0003                                               VJTI, Mumbai   \n",
       "DS0004                                          IIT (ISM) Dhanbad   \n",
       "DS0005                                                       Vvce   \n",
       "\n",
       "                                         Degree  \\\n",
       "Application_ID                                    \n",
       "DS0001            Bachelor of Engineering (B.E)   \n",
       "DS0002                                      NaN   \n",
       "DS0003          Bachelor of Technology (B.Tech)   \n",
       "DS0004                        Integrated M.Tech   \n",
       "DS0005            Bachelor of Engineering (B.E)   \n",
       "\n",
       "                                                Stream  \\\n",
       "Application_ID                                           \n",
       "DS0001          Electrical and Electronics Engineering   \n",
       "DS0002                                             PGP   \n",
       "DS0003                             Information Systems   \n",
       "DS0004                       Mathematics and Computing   \n",
       "DS0005                   Electronics and Communication   \n",
       "\n",
       "                Current Year Of Graduation Performance_PG Performance_UG  \\\n",
       "Application_ID                                                             \n",
       "DS0001                                2019            NaN        7.73/10   \n",
       "DS0002                                2020            NaN      68.00/100   \n",
       "DS0003                                2018            NaN        8.85/10   \n",
       "DS0004                                2021            NaN        8.40/10   \n",
       "DS0005                                2018            NaN            NaN   \n",
       "\n",
       "               Performance_12 Performance_10  \n",
       "Application_ID                                \n",
       "DS0001                    NaN            NaN  \n",
       "DS0002                    NaN            NaN  \n",
       "DS0003            91.40/91.40      9.40/9.40  \n",
       "DS0004            91.80/91.80    10.00/10.00  \n",
       "DS0005                    NaN            NaN  "
      ]
     },
     "execution_count": 137,
     "metadata": {},
     "output_type": "execute_result"
    }
   ],
   "source": [
    "data.head()"
   ]
  },
  {
   "cell_type": "code",
   "execution_count": 138,
   "metadata": {},
   "outputs": [
    {
     "name": "stdout",
     "output_type": "stream",
     "text": [
      "<class 'pandas.core.frame.DataFrame'>\n",
      "Index: 611 entries, DS0001 to DS0611\n",
      "Data columns (total 13 columns):\n",
      "Current City                  611 non-null object\n",
      "Python (out of 3)             611 non-null int64\n",
      "R Programming (out of 3)      611 non-null int64\n",
      "Data Science (out of 3)       611 non-null int64\n",
      "Other skills                  601 non-null object\n",
      "Institute                     611 non-null object\n",
      "Degree                        575 non-null object\n",
      "Stream                        580 non-null object\n",
      "Current Year Of Graduation    611 non-null int64\n",
      "Performance_PG                128 non-null object\n",
      "Performance_UG                533 non-null object\n",
      "Performance_12                363 non-null object\n",
      "Performance_10                339 non-null object\n",
      "dtypes: int64(4), object(9)\n",
      "memory usage: 66.8+ KB\n"
     ]
    }
   ],
   "source": [
    "data.info()"
   ]
  },
  {
   "cell_type": "code",
   "execution_count": 139,
   "metadata": {},
   "outputs": [],
   "source": [
    "def check(x,y,z):\n",
    "    if x and y and z is None:\n",
    "        return (0)\n",
    "    else:\n",
    "        if x in y:\n",
    "            return ( z + 3 )\n",
    "        else: \n",
    "            return(z)"
   ]
  },
  {
   "cell_type": "code",
   "execution_count": 141,
   "metadata": {},
   "outputs": [],
   "source": [
    "data[\"Other skills\"].fillna('Nil', inplace = True) \n",
    "data[\"Degree\"].fillna('Nil', inplace = True) "
   ]
  },
  {
   "cell_type": "code",
   "execution_count": 142,
   "metadata": {},
   "outputs": [],
   "source": [
    "data[\"weightage\"]=0\n",
    "data[\"weightage\"] = data.apply(lambda row : check(\"Machine Learning\",row['Other skills'], row['weightage']), axis = 1) \n",
    "data[\"weightage\"] = data.apply(lambda row : check(\"Deep Learning\",row['Other skills'], row['weightage']), axis = 1) \n",
    "data[\"weightage\"] = data.apply(lambda row : check(\"NLP\",row['Other skills'], row['weightage']), axis = 1)\n",
    "data[\"weightage\"] = data.apply(lambda row : check(\"Statistical Data Analysis\",row['Other skills'], row['weightage']), axis = 1)\n",
    "data[\"weightage\"] = data.apply(lambda row : check(\"AWS\",row['Other skills'], row['weightage']), axis = 1)\n",
    "data[\"weightage\"] = data.apply(lambda row : check(\"SQL\",row['Other skills'], row['weightage']), axis = 1)\n",
    "data[\"weightage\"] = data.apply(lambda row : check(\"Excel\",row['Other skills'], row['weightage']), axis = 1)"
   ]
  },
  {
   "cell_type": "code",
   "execution_count": 144,
   "metadata": {},
   "outputs": [],
   "source": [
    "def degree(x,y,z):\n",
    "    if \"B.E\" in x or \"B.Tech\" in x:\n",
    "        if y == 2020:\n",
    "            return(z+10)\n",
    "        elif y==2019:\n",
    "            return(z+8)\n",
    "        else:\n",
    "            return(z+5)        \n",
    "    elif \"M.Sc\" in x or \"M.Tech\" in x:\n",
    "        if y==2020:\n",
    "            return(z+7)\n",
    "        else:\n",
    "            return(z+3)\n",
    "    else:\n",
    "        return(z+0)"
   ]
  },
  {
   "cell_type": "code",
   "execution_count": 145,
   "metadata": {},
   "outputs": [],
   "source": [
    "data[\"weightage\"] = data.apply(lambda row : degree(row[\"Degree\"],row[\"Current Year Of Graduation\"], row['weightage']), axis = 1)"
   ]
  },
  {
   "cell_type": "code",
   "execution_count": 146,
   "metadata": {},
   "outputs": [],
   "source": [
    "data['Machine Learning'] = [1 if \"Machine Learning\" in x else 0 for x in data['Other skills']]\n",
    "data[\"Deep Learning\"] = [1 if \"Deep Learning\" in x else 0 for x in data['Other skills']]\n",
    "data[\"NLP\"] = [1 if \"NLP\" in x else 0 for x in data['Other skills']]\n",
    "data[\"Statistical Data Analysis\"] = [1 if \"Statistical Data Analysis\" in x else 0 for x in data['Other skills']]\n",
    "data[\"AWS\"] = [1 if \"AWS\" in x else 0 for x in data['Other skills']]\n",
    "data[\"SQL\"] = [1 if \"SQL\" in x else 0 for x in data['Other skills']]\n",
    "data[\"Excel\"] = [1 if \"Excel\" in x else 0 for x in data['Other skills']]"
   ]
  },
  {
   "cell_type": "code",
   "execution_count": 148,
   "metadata": {},
   "outputs": [],
   "source": [
    "def skill(x,y):\n",
    "    if x==3:\n",
    "        return(y + 10)\n",
    "    elif x==2:\n",
    "        return(y+7)\n",
    "    elif x==1:\n",
    "        return(y+3)\n",
    "    else:\n",
    "        return(y+0)"
   ]
  },
  {
   "cell_type": "code",
   "execution_count": 149,
   "metadata": {},
   "outputs": [],
   "source": [
    "data[\"weightage\"] = data.apply(lambda row : skill(row[\"Python (out of 3)\"], row['weightage']), axis = 1)\n",
    "data[\"weightage\"] = data.apply(lambda row : skill(row[\"R Programming (out of 3)\"], row['weightage']), axis = 1)\n",
    "data[\"weightage\"] = data.apply(lambda row : skill(row[\"Data Science (out of 3)\"], row['weightage']), axis = 1)"
   ]
  },
  {
   "cell_type": "code",
   "execution_count": 150,
   "metadata": {},
   "outputs": [
    {
     "data": {
      "text/plain": [
       "23"
      ]
     },
     "execution_count": 150,
     "metadata": {},
     "output_type": "execute_result"
    }
   ],
   "source": [
    "len(data[data[\"weightage\"]>=40])"
   ]
  },
  {
   "cell_type": "code",
   "execution_count": 157,
   "metadata": {},
   "outputs": [],
   "source": [
    "data.loc[data['weightage'] >= 40, 'shortlisted'] = \"Yes\"\n",
    "data.loc[data['weightage'] < 40, 'shortlisted'] = \"No\"\n",
    "data[\"Target\"] = [1 if x >= 40 else 0 for x in data['weightage']]"
   ]
  },
  {
   "cell_type": "code",
   "execution_count": 163,
   "metadata": {},
   "outputs": [],
   "source": [
    "columns=[ 'Python (out of 3)', 'R Programming (out of 3)',\n",
    "       'Data Science (out of 3)', 'Current Year Of Graduation', 'weightage',\n",
    "       'Machine Learning', 'Deep Learning', 'NLP', 'Statistical Data Analysis',\n",
    "       'AWS', 'SQL', 'Excel']"
   ]
  },
  {
   "cell_type": "code",
   "execution_count": 165,
   "metadata": {},
   "outputs": [],
   "source": [
    "X=data[columns]\n",
    "y=data[\"Target\"]"
   ]
  },
  {
   "cell_type": "code",
   "execution_count": 167,
   "metadata": {},
   "outputs": [],
   "source": [
    "from sklearn.model_selection import train_test_split \n",
    "X_train, X_test, y_train, y_test = train_test_split(X, y, test_size=0.4, random_state=1) "
   ]
  },
  {
   "cell_type": "code",
   "execution_count": 169,
   "metadata": {},
   "outputs": [
    {
     "name": "stdout",
     "output_type": "stream",
     "text": [
      "Gaussian Naive Bayes model accuracy(in %): 91.42857142857143\n"
     ]
    }
   ],
   "source": [
    "from sklearn.naive_bayes import GaussianNB \n",
    "gnb = GaussianNB() \n",
    "gnb.fit(X_train, y_train) \n",
    "  \n",
    "# making predictions on the testing set \n",
    "y_pred = gnb.predict(X_test) \n",
    "  \n",
    "# comparing actual response values (y_test) with predicted response values (y_pred) \n",
    "from sklearn import metrics \n",
    "print(\"Gaussian Naive Bayes model accuracy(in %):\", metrics.accuracy_score(y_test, y_pred)*100)"
   ]
  }
 ],
 "metadata": {
  "kernelspec": {
   "display_name": "Python 3",
   "language": "python",
   "name": "python3"
  },
  "language_info": {
   "codemirror_mode": {
    "name": "ipython",
    "version": 3
   },
   "file_extension": ".py",
   "mimetype": "text/x-python",
   "name": "python",
   "nbconvert_exporter": "python",
   "pygments_lexer": "ipython3",
   "version": "3.6.8"
  }
 },
 "nbformat": 4,
 "nbformat_minor": 2
}
